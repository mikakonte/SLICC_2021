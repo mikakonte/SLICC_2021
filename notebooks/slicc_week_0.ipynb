{
 "cells": [
  {
   "cell_type": "markdown",
   "id": "8945e7f8",
   "metadata": {},
   "source": [
    "# Week 0: Preparatory Study on LinkedIn Learning\n",
    "\n",
    "### Aim: Gain familiarity with key concepts in functional and object-oriented programming."
   ]
  },
  {
   "cell_type": "markdown",
   "id": "bb5f95bf",
   "metadata": {},
   "source": [
    "## [Functional Programming with Python](https://www.linkedin.com/learning/functional-programming-with-python) by Shaun Wassell\n",
    "\n",
    "### 1 Introductory Functional Concepts\n",
    "\n",
    "Immutability\n",
    "- The initial values assigned to a variable are not subsequently changed.\n",
    "- Adds rigidity but makes tracking down and fixing bugs easier.\n",
    "- E.g. \"x is 3\" instead of \"x equals 3\".\n",
    "\n",
    "Separation of Data and Functions\n",
    "- Functions never modify the data, only return a modified copy.\n",
    "- Data kept separate in lists or dictionaries.\n",
    "- Cf. In OOP, data are wrapped inside an object as member variables.\n",
    "\n",
    "First-Class Functions\n",
    "- Functions are treated in a similar way to variables and objects.\n",
    "- Functions can be combined, adding flexibility."
   ]
  },
  {
   "cell_type": "markdown",
   "id": "8c4505ca",
   "metadata": {},
   "source": [
    "### 2 First-Class Functions"
   ]
  },
  {
   "cell_type": "markdown",
   "id": "cdf6b4f2",
   "metadata": {},
   "source": [
    "#### 2.1 Treating Functions as Variables"
   ]
  },
  {
   "cell_type": "code",
   "execution_count": 179,
   "id": "844d0060",
   "metadata": {},
   "outputs": [
    {
     "name": "stdout",
     "output_type": "stream",
     "text": [
      "Hello Edward\n",
      "Returning fake data...\n"
     ]
    }
   ],
   "source": [
    "#function defined with a single argument\n",
    "def say_hello(name):\n",
    "    print(f'Hello {name}')\n",
    "\n",
    "#the function is treated as a data type\n",
    "say_hello_2 = say_hello\n",
    "say_hello_2('Edward')\n",
    "\n",
    "#environment variable defining the execution mode, e.g. production, development\n",
    "ENVIRONMENT = 'dev'\n",
    "\n",
    "#illustrative example of a data return function using e.g. an API\n",
    "def fetch_data_real():\n",
    "    print('Time-intensive operation...')\n",
    "\n",
    "#test function for use during development phase\n",
    "def fetch_data_fake():\n",
    "    print('Returning fake data...')\n",
    "    return {\n",
    "        'name': 'Henri Poincaré',\n",
    "        'age': '58'\n",
    "    }\n",
    "\n",
    "#ternary operator / conditional expression based on the environment variable\n",
    "fetch_data = fetch_data_real if ENVIRONMENT == 'prod' else fetch_data_fake\n",
    "\n",
    "data = fetch_data()"
   ]
  },
  {
   "cell_type": "markdown",
   "id": "8e9f2b07",
   "metadata": {},
   "source": [
    "#### 2.2 Lists of Functions"
   ]
  },
  {
   "cell_type": "code",
   "execution_count": 180,
   "id": "06d902f1",
   "metadata": {},
   "outputs": [
    {
     "name": "stdout",
     "output_type": "stream",
     "text": [
      "5.0\n",
      "5.0\n"
     ]
    }
   ],
   "source": [
    "import math\n",
    "\n",
    "#define three functions that we want to apply to a given number\n",
    "\n",
    "def double(x):\n",
    "    return x * 2\n",
    "\n",
    "def minus_one(x):\n",
    "    return x - 1\n",
    "\n",
    "def squared(x):\n",
    "    return x * x\n",
    "\n",
    "\n",
    "#create list of defined functions\n",
    "function_list = [\n",
    "    double,\n",
    "    minus_one,\n",
    "    squared,\n",
    "    math.sqrt\n",
    "]\n",
    "#note the lack of parentheses; these refer to the function outputs\n",
    "\n",
    "\n",
    "my_number = 3\n",
    "\n",
    "#the mechanical way; as many lines of code as there are functions\n",
    "my_number = double(my_number)\n",
    "my_number = minus_one(my_number)\n",
    "my_number = squared(my_number)\n",
    "my_number = math.sqrt(my_number)\n",
    "\n",
    "print(my_number)\n",
    "\n",
    "\n",
    "#reset my_number\n",
    "my_number = 3\n",
    "\n",
    "#using the list of functions; two lines of code\n",
    "for func in function_list:\n",
    "    my_number = func(my_number)\n",
    "    \n",
    "print(my_number)"
   ]
  },
  {
   "cell_type": "markdown",
   "id": "adccc64f",
   "metadata": {},
   "source": [
    "#### 2.3 Functions as Arguments"
   ]
  },
  {
   "cell_type": "code",
   "execution_count": 181,
   "id": "10fdd40f",
   "metadata": {},
   "outputs": [
    {
     "name": "stdout",
     "output_type": "stream",
     "text": [
      "5\n",
      "-1\n",
      "Mika Kontiainen\n",
      "Kontiainen, Mika\n"
     ]
    }
   ],
   "source": [
    "#functions specifying what to do with two arbitrarily valued variables\n",
    "def add(x, y):\n",
    "    return x + y\n",
    "\n",
    "def subtract(x, y):\n",
    "    return x - y\n",
    "\n",
    "\n",
    "#function with fixed valued variables, function as argument\n",
    "def combine_2_and_3(func):\n",
    "    return func(2, 3)\n",
    "\n",
    "print(combine_2_and_3(add))\n",
    "print(combine_2_and_3(subtract))\n",
    "\n",
    "\n",
    "#another example using strings instead of numbers\n",
    "def combine_names(func):\n",
    "    return func('Mika', 'Kontiainen')\n",
    "\n",
    "def append_with_space(str1, str2):\n",
    "    return f'{str1} {str2}'\n",
    "\n",
    "def reverse_with_comma(first, last):\n",
    "    return f'{last}, {first}'\n",
    "\n",
    "#combine names in the way specified by the two functions above\n",
    "print(combine_names(append_with_space))\n",
    "print(combine_names(reverse_with_comma))"
   ]
  },
  {
   "cell_type": "markdown",
   "id": "88f25748",
   "metadata": {},
   "source": [
    "#### 2.4 Returning Functions"
   ]
  },
  {
   "cell_type": "code",
   "execution_count": 182,
   "id": "149f5536",
   "metadata": {},
   "outputs": [
    {
     "name": "stdout",
     "output_type": "stream",
     "text": [
      "Hello functional!\n"
     ]
    }
   ],
   "source": [
    "#define a function that returns a function\n",
    "def create_printer():\n",
    "    def printer():\n",
    "        print('Hello functional!')\n",
    "    return printer\n",
    "\n",
    "#assign output of create_printer to a new variable\n",
    "my_printer = create_printer()\n",
    "\n",
    "#my_printer now acts the same as printer\n",
    "my_printer()"
   ]
  },
  {
   "cell_type": "code",
   "execution_count": 183,
   "id": "847e3e51",
   "metadata": {},
   "outputs": [
    {
     "name": "stdout",
     "output_type": "stream",
     "text": [
      "28\n",
      "28\n"
     ]
    }
   ],
   "source": [
    "#define three simple mathematical functions\n",
    "\n",
    "def double(x):\n",
    "    return x * 2\n",
    "\n",
    "def triple(x):\n",
    "    return x * 3\n",
    "\n",
    "def quadruple(x):\n",
    "    return x * 4\n",
    "\n",
    "print(quadruple(7))\n",
    "\n",
    "#note repetition in functions above; these can be expressed in a more succint way, increasing code reuse\n",
    "\n",
    "def create_multiplier(n):\n",
    "    def multiplier(x):\n",
    "        return x * n\n",
    "    \n",
    "    return multiplier\n",
    "\n",
    "#we can now create multiplier functions much more easily, e.g. double = create_multiplier(2)\n",
    "\n",
    "quadruple = create_multiplier(4)\n",
    "print(quadruple(7))"
   ]
  },
  {
   "cell_type": "markdown",
   "id": "6d9cc57f",
   "metadata": {},
   "source": [
    "#### 2.5 Closure"
   ]
  },
  {
   "cell_type": "code",
   "execution_count": 184,
   "id": "4112cae2",
   "metadata": {},
   "outputs": [
    {
     "name": "stdout",
     "output_type": "stream",
     "text": [
      "My favourite number is 35\n"
     ]
    }
   ],
   "source": [
    "#define a creator function with an inside variable that can only be accessed through a function\n",
    "def create_printer():\n",
    "    my_favourite_number = 35\n",
    "    \n",
    "    def printer():\n",
    "        print(f'My favourite number is {my_favourite_number}')\n",
    "              \n",
    "    return printer\n",
    "              \n",
    "\n",
    "my_printer = create_printer()\n",
    "my_printer()\n",
    "\n",
    "#note that my_printer still has access to the variable my_favourite_number\n",
    "\n",
    "#cf. uncomment the following:\n",
    "#print(my_favourite_number)"
   ]
  },
  {
   "cell_type": "code",
   "execution_count": 185,
   "id": "e334df60",
   "metadata": {},
   "outputs": [
    {
     "name": "stdout",
     "output_type": "stream",
     "text": [
      "0\n",
      "2\n"
     ]
    }
   ],
   "source": [
    "def create_counter():\n",
    "    count = 0\n",
    "    \n",
    "    def get_count():\n",
    "        return count\n",
    "    \n",
    "    def increment():\n",
    "        #count is the same variable as in the outer scope\n",
    "        nonlocal count\n",
    "        count += 1\n",
    "\n",
    "    return (get_count, increment)\n",
    "\n",
    "get_count, increment = create_counter()\n",
    "\n",
    "#print initial count\n",
    "print(get_count())\n",
    "\n",
    "#increment counter twice by calling function\n",
    "increment()\n",
    "increment()\n",
    "\n",
    "#print final count\n",
    "print(get_count())\n",
    "\n",
    "#note that the variable count can now only be accessed through the two functions"
   ]
  },
  {
   "cell_type": "markdown",
   "id": "1120cd61",
   "metadata": {},
   "source": [
    "#### 2.6 Higher-Order Functions"
   ]
  },
  {
   "cell_type": "code",
   "execution_count": 186,
   "id": "50822ebb",
   "metadata": {},
   "outputs": [
    {
     "name": "stdout",
     "output_type": "stream",
     "text": [
      "Second argument is zero!\n",
      "7.0\n"
     ]
    }
   ],
   "source": [
    "#division function has to \"worry\" about checking whether the divisor is zero\n",
    "def divide(x, y):\n",
    "    if y == 0:\n",
    "        print(\"Cannot divide by zero!\")\n",
    "        return\n",
    "    return x / y\n",
    "\n",
    "\n",
    "#the above can be written more efficiently using higher-order functions\n",
    "def divide(x, y):\n",
    "    return x / y\n",
    "\n",
    "#define a higher-order function to act as a function check\n",
    "def second_argument_is_not_zero(func):\n",
    "    #safe_version takes the arguments of func\n",
    "    def safe_version(*args):\n",
    "        if args[1] == 0:\n",
    "            print(\"Second argument is zero!\")\n",
    "            return\n",
    "        \n",
    "        return func(*args) \n",
    "    \n",
    "    return safe_version\n",
    "\n",
    "#define new divison function that checks the validity of the second argument\n",
    "divide_safe = second_argument_is_not_zero(divide)\n",
    "\n",
    "divide_safe(10, 0)\n",
    "print(divide_safe(21, 3))"
   ]
  },
  {
   "cell_type": "markdown",
   "id": "6008df21",
   "metadata": {},
   "source": [
    "### 3 Native Support for Functional Programming in Python"
   ]
  },
  {
   "cell_type": "markdown",
   "id": "c08a69f1",
   "metadata": {},
   "source": [
    "#### 3.2 Mapping"
   ]
  },
  {
   "cell_type": "code",
   "execution_count": 187,
   "id": "c983befb",
   "metadata": {},
   "outputs": [
    {
     "name": "stdout",
     "output_type": "stream",
     "text": [
      "[0, 2, 4, 6, 8, 10, 12, 14, 16, 18]\n",
      "[0, 2, 4, 6, 8, 10, 12, 14, 16, 18]\n"
     ]
    }
   ],
   "source": [
    "#define example list, each member of which we want to modify\n",
    "numbers_list = [0, 1, 2, 3, 4, 5, 6, 7, 8, 9]\n",
    "\n",
    "\n",
    "#typical way using a for loop / declarative programming\n",
    "doubled_list = []\n",
    "for x in numbers_list:\n",
    "    doubled_list.append(x * 2)\n",
    "\n",
    "print(doubled_list)\n",
    "\n",
    "\n",
    "#functional approach using the built-in map function / imperative programming\n",
    "def double(x):\n",
    "    return x * 2\n",
    "\n",
    "#call map function on the double function and the desired list\n",
    "doubled_list_functional = list(map(double, numbers_list))\n",
    "\n",
    "print(doubled_list_functional)\n",
    "\n",
    "#note that the outcome is the same but the latter approach is more flexible"
   ]
  },
  {
   "cell_type": "markdown",
   "id": "f85ec280",
   "metadata": {},
   "source": [
    "#### 3.3 Filtering"
   ]
  },
  {
   "cell_type": "code",
   "execution_count": 188,
   "id": "1b691699",
   "metadata": {},
   "outputs": [
    {
     "name": "stdout",
     "output_type": "stream",
     "text": [
      "[0, 2, 4, 6, 8]\n",
      "[0, 2, 4, 6, 8]\n"
     ]
    }
   ],
   "source": [
    "#define example list, the members of which we want to filter\n",
    "numbers_list = [0, 1, 2, 3, 4, 5, 6, 7, 8, 9]\n",
    "\n",
    "\n",
    "#typical, procedural approach\n",
    "even_numbers = []\n",
    "for x in numbers_list:\n",
    "    #check if given number is even\n",
    "    if (x % 2 == 0):\n",
    "        even_numbers.append(x)\n",
    "\n",
    "print(even_numbers)\n",
    "\n",
    "\n",
    "#functional approach\n",
    "def is_even(x):\n",
    "    return x % 2 == 0\n",
    "\n",
    "#call built-in filter function on the function and the desired list\n",
    "even_numbers_functional = list(filter(is_even, numbers_list))\n",
    "\n",
    "print(even_numbers_functional)\n",
    "\n",
    "#cf. 3.2 -> added flexibility"
   ]
  },
  {
   "cell_type": "markdown",
   "id": "a602a5c2",
   "metadata": {},
   "source": [
    "#### 3.4 Lambda Functions"
   ]
  },
  {
   "cell_type": "code",
   "execution_count": 189,
   "id": "15a37f69",
   "metadata": {},
   "outputs": [
    {
     "name": "stdout",
     "output_type": "stream",
     "text": [
      "5\n",
      "[0, 2, 4, 6, 8, 10, 12, 14, 16, 18]\n",
      "10\n"
     ]
    }
   ],
   "source": [
    "#lambdas are nameless, one-line functions that can be defined inside other expressions\n",
    "\n",
    "numbers_list = [0, 1, 2, 3, 4, 5, 6, 7, 8, 9]\n",
    "\n",
    "\n",
    "#example lambda function that adds two numbers\n",
    "add = lambda x, y: x + y\n",
    "print(add(2, 3))\n",
    "\n",
    "\n",
    "#concise way of modifying list members without defining a new function, cf. 3.2\n",
    "doubled_numbers = list(map(lambda x: x * 2, numbers_list))\n",
    "print(doubled_numbers)\n",
    "\n",
    "\n",
    "#concise way to create any multiplier function using a lambda, cf. 2.4\n",
    "def create_multiplier(n):\n",
    "    return lambda x: x * n\n",
    "\n",
    "double = create_multiplier(2)\n",
    "print(double(5))"
   ]
  },
  {
   "cell_type": "markdown",
   "id": "299b67f3",
   "metadata": {},
   "source": [
    "#### 3.5 List Comprehensions"
   ]
  },
  {
   "cell_type": "code",
   "execution_count": 190,
   "id": "e3cda5c5",
   "metadata": {},
   "outputs": [
    {
     "name": "stdout",
     "output_type": "stream",
     "text": [
      "[0, 2, 4, 6, 8, 10, 12, 14, 16, 18]\n",
      "[0, 2, 4, 6, 8]\n",
      "[0, 4, 8, 12, 16]\n"
     ]
    }
   ],
   "source": [
    "#example list we want to modify\n",
    "numbers_list = [0, 1, 2, 3, 4, 5, 6, 7, 8, 9]\n",
    "\n",
    "\n",
    "#using list comprehension instead of the map function\n",
    "doubled = [x * 2 for x in numbers_list]\n",
    "print(doubled)\n",
    "\n",
    "\n",
    "#using list comprehension instead of the filter function\n",
    "evens = [x for x in numbers_list if x % 2 == 0]\n",
    "print(evens)\n",
    "\n",
    "#simultaneous mapping and filtering\n",
    "doubled_evens = [x * 2 for x in numbers_list if x % 2 == 0]\n",
    "print(doubled_evens)\n",
    "\n",
    "#note that the original numbers_list is not modified"
   ]
  },
  {
   "cell_type": "markdown",
   "id": "8202ec5a",
   "metadata": {},
   "source": [
    "#### 3.6 Reducing"
   ]
  },
  {
   "cell_type": "code",
   "execution_count": 191,
   "id": "6c2717e7",
   "metadata": {},
   "outputs": [
    {
     "name": "stdout",
     "output_type": "stream",
     "text": [
      "acc is 0, x is 1\n",
      "acc is 1, x is 2\n",
      "acc is 3, x is 3\n",
      "acc is 6, x is 4\n",
      "acc is 10, x is 5\n",
      "acc is 15, x is 6\n",
      "acc is 21, x is 7\n",
      "acc is 28, x is 8\n",
      "acc is 36, x is 9\n",
      "45\n"
     ]
    }
   ],
   "source": [
    "from functools import reduce\n",
    "\n",
    "numbers_list = [0, 1, 2, 3, 4, 5, 6, 7, 8, 9]\n",
    "\n",
    "#use the reduce function to find the sum of the numbers in the list\n",
    "def get_sum(acc, x):\n",
    "    print(f'acc is {acc}, x is {x}')\n",
    "    return acc + x\n",
    "\n",
    "#call reduce to apply get_sum to numbers_list\n",
    "total = reduce(get_sum, numbers_list)\n",
    "print(total)"
   ]
  },
  {
   "cell_type": "markdown",
   "id": "bcef5ddd",
   "metadata": {},
   "source": [
    "#### 3.7 Combining List Functions"
   ]
  },
  {
   "cell_type": "code",
   "execution_count": 192,
   "id": "6b6f0af0",
   "metadata": {},
   "outputs": [
    {
     "name": "stdout",
     "output_type": "stream",
     "text": [
      "95000.0\n",
      "80000.0\n"
     ]
    }
   ],
   "source": [
    "from functools import reduce\n",
    "\n",
    "#example dictionary for comparing salaries\n",
    "employees = [{\n",
    "    'name': 'Jane',\n",
    "    'salary': 90000,\n",
    "    'job_title': 'developer'\n",
    "}, {\n",
    "    'name': 'Bill',\n",
    "    'salary': 50000,\n",
    "    'job_title': 'writer'\n",
    "}, {\n",
    "    'name': 'Kathy',\n",
    "    'salary': 120000,\n",
    "    'job_title': 'executive'\n",
    "}, {\n",
    "    'name': 'Anna',\n",
    "    'salary': 100000,\n",
    "    'job_title': 'developer'\n",
    "}, {\n",
    "    'name': 'Dennis',\n",
    "    'salary': 95000,\n",
    "    'job_title': 'developer'\n",
    "}, {\n",
    "    'name': 'Albert',\n",
    "    'salary': 70000,\n",
    "    'job_title': 'marketing specialist'\n",
    "}]\n",
    "\n",
    "\n",
    "#define functions to check whether an employee is a developer or not\n",
    "def is_developer(employee):\n",
    "    return employee['job_title'] == 'developer'\n",
    "\n",
    "def is_not_developer(employee):\n",
    "    return employee['job_title'] != 'developer'\n",
    "\n",
    "\n",
    "#create a list of just the developers\n",
    "developers = list(filter(is_developer, employees))\n",
    "\n",
    "#create a list of the non-developer employees\n",
    "non_developers = list(filter(is_not_developer, employees))\n",
    "\n",
    "\n",
    "#define function to retrieve the employees' salaries\n",
    "def get_salary(employee):\n",
    "    return employee['salary']\n",
    "\n",
    "\n",
    "#create a list of just the developers' salaries\n",
    "developer_salaries = list(map(get_salary, developers))\n",
    "\n",
    "#create a list of just the non-developers' salaries\n",
    "non_developer_salaries = list(map(get_salary, non_developers))\n",
    "\n",
    "\n",
    "#define a function to evaluate the sum\n",
    "def get_sum(acc, x):\n",
    "    return acc + x\n",
    "\n",
    "\n",
    "#call the reduce function to get the sum of the developers salaries\n",
    "total_developer_salaries = reduce(get_sum, developer_salaries)\n",
    "\n",
    "#call the reduce function to get the sum of the non-developers salaries\n",
    "total_non_developer_salaries = reduce(get_sum, non_developer_salaries)\n",
    "\n",
    "\n",
    "#calculate averages of the employees' salaries\n",
    "average_developer_salary = total_developer_salaries / len(developer_salaries)\n",
    "print(average_developer_salary)\n",
    "\n",
    "average_non_developer_salary = total_non_developer_salaries / len(non_developer_salaries)\n",
    "print(average_non_developer_salary)"
   ]
  },
  {
   "cell_type": "markdown",
   "id": "bf00b322",
   "metadata": {},
   "source": [
    "#### 3.8 Challenge: Converting to List Comprehensions\n",
    "Recreate programme 3.7 using list comprehensions instead of list functions (filter, map, reduce)."
   ]
  },
  {
   "cell_type": "code",
   "execution_count": 203,
   "id": "49c2348c",
   "metadata": {},
   "outputs": [
    {
     "name": "stdout",
     "output_type": "stream",
     "text": [
      "95000.0\n",
      "80000.0\n"
     ]
    }
   ],
   "source": [
    "#begin with the same example dictionary\n",
    "employees = [{\n",
    "    'name': 'Jane',\n",
    "    'salary': 90000,\n",
    "    'job_title': 'developer'\n",
    "}, {\n",
    "    'name': 'Bill',\n",
    "    'salary': 50000,\n",
    "    'job_title': 'writer'\n",
    "}, {\n",
    "    'name': 'Kathy',\n",
    "    'salary': 120000,\n",
    "    'job_title': 'executive'\n",
    "}, {\n",
    "    'name': 'Anna',\n",
    "    'salary': 100000,\n",
    "    'job_title': 'developer'\n",
    "}, {\n",
    "    'name': 'Dennis',\n",
    "    'salary': 95000,\n",
    "    'job_title': 'developer'\n",
    "}, {\n",
    "    'name': 'Albert',\n",
    "    'salary': 70000,\n",
    "    'job_title': 'marketing specialist'\n",
    "}]\n",
    "\n",
    "\n",
    "#define functions to check whether an employee is a developer or not\n",
    "def is_developer(employee):\n",
    "    return employee['job_title'] == 'developer'\n",
    "\n",
    "def is_not_developer(employee):\n",
    "    return employee['job_title'] != 'developer'\n",
    "\n",
    "\n",
    "#define function to retrieve the employees' salaries\n",
    "def get_salary(employee):\n",
    "    return employee['salary']\n",
    "\n",
    "'''\n",
    "#two-step route\n",
    "\n",
    "#create lists for both types of employees\n",
    "developers = [x for x in employees if is_developer(x)]\n",
    "\n",
    "non_developers = [x for x in employees if is_not_developer(x)]\n",
    "\n",
    "\n",
    "#create lists containing the salaries of developer and non-developer employees\n",
    "developer_salaries = [get_salary(x) for x in developers]\n",
    "\n",
    "non_developer_salaries = [get_salary(x) for x in non_developers]\n",
    "'''\n",
    "\n",
    "#one-step route, filtering and mapping in a single line\n",
    "developer_salaries = [get_salary(x) for x in employees if is_developer(x)]\n",
    "\n",
    "non_developer_salaries = [get_salary(x) for x in employees if is_not_developer(x)]\n",
    "\n",
    "\n",
    "#calculate the average salaries using the built-in sum function\n",
    "average_developer_salary = sum(developer_salaries) / len(developer_salaries)\n",
    "print(average_developer_salary)\n",
    "\n",
    "average_non_developer_salary = sum(non_developer_salaries) / len(non_developer_salaries)\n",
    "print(average_non_developer_salary)\n"
   ]
  },
  {
   "cell_type": "markdown",
   "id": "c12a17e2",
   "metadata": {},
   "source": [
    "### 4 Advanced Functional Concepts"
   ]
  },
  {
   "cell_type": "markdown",
   "id": "25242095",
   "metadata": {},
   "source": [
    "#### 4.2 Partial Application and Currying"
   ]
  },
  {
   "cell_type": "code",
   "execution_count": 206,
   "id": "7615c9bc",
   "metadata": {},
   "outputs": [
    {
     "name": "stdout",
     "output_type": "stream",
     "text": [
      "18\n",
      "18\n"
     ]
    }
   ],
   "source": [
    "#define simple add function that takes three arguments\n",
    "def add(x, y, z):\n",
    "    return x + y + z\n",
    "\n",
    "#define a function that returns an add function with one argument fixed\n",
    "def add_partial(x):\n",
    "    def add_others(y, z):\n",
    "        return x + y + z\n",
    "    \n",
    "    return add_others\n",
    "\n",
    "#example function, especially useful if one of the arguments usually has the same value\n",
    "add_5 = add_partial(5)\n",
    "print(add_5(6, 7))\n",
    "\n",
    "\n",
    "#a version of add_partial that accepts two arguments\n",
    "def add_partial_2(x, y):\n",
    "    def add_others(z):\n",
    "        return x + y + z\n",
    "    return add_others\n",
    "\n",
    "#example function 2 using the different grouping\n",
    "add_5_and_6 = add_partial_2(5, 6)\n",
    "print(add_5_and_6(7))"
   ]
  },
  {
   "cell_type": "code",
   "execution_count": 210,
   "id": "30f02915",
   "metadata": {},
   "outputs": [
    {
     "name": "stdout",
     "output_type": "stream",
     "text": [
      "18\n",
      "18\n"
     ]
    }
   ],
   "source": [
    "#special application with arguments passed one at a time -> currying\n",
    "def curry_add(x):\n",
    "    def curry_add_inner(y):\n",
    "        def curry_add_inner_2(z):\n",
    "            return x + y + z\n",
    "        return curry_add_inner_2\n",
    "    return curry_add_inner\n",
    "\n",
    "#example function using currying\n",
    "add_5 = curry_add(5)\n",
    "add_5_and_6 = add_5(6)\n",
    "print(add_5_and_6(7))\n",
    "\n",
    "#alternative way to call the above\n",
    "print(curry_add(5)(6)(7))"
   ]
  },
  {
   "cell_type": "code",
   "execution_count": 212,
   "id": "83f54592",
   "metadata": {},
   "outputs": [
    {
     "name": "stdout",
     "output_type": "stream",
     "text": [
      "18\n"
     ]
    }
   ],
   "source": [
    "from functools import partial\n",
    "\n",
    "#creating the example function using the partial function from the functools module\n",
    "add_5 = partial(add, 5)\n",
    "print(add_5(6, 7))\n",
    "\n",
    "#more concise code compared to explicitly defining the inner functions"
   ]
  },
  {
   "cell_type": "markdown",
   "id": "20daaad4",
   "metadata": {},
   "source": [
    "#### 4.3 Recursion"
   ]
  },
  {
   "cell_type": "code",
   "execution_count": 218,
   "id": "5a524052",
   "metadata": {},
   "outputs": [
    {
     "name": "stdout",
     "output_type": "stream",
     "text": [
      "10\n",
      "9\n",
      "8\n",
      "7\n",
      "6\n",
      "5\n",
      "4\n",
      "3\n",
      "2\n",
      "1\n",
      "0\n",
      "Liftoff!\n"
     ]
    }
   ],
   "source": [
    "#recursion = when a function calls itself\n",
    "\n",
    "#define function that will count down from a given number\n",
    "def count_down(x):\n",
    "    if x < 0:\n",
    "        print('Liftoff!')\n",
    "        return\n",
    "    print(x)\n",
    "    count_down(x - 1)\n",
    "\n",
    "#count down from 10\n",
    "count_down(10)"
   ]
  },
  {
   "cell_type": "code",
   "execution_count": 223,
   "id": "8a184751",
   "metadata": {},
   "outputs": [
    {
     "name": "stdout",
     "output_type": "stream",
     "text": [
      "0\n",
      "1\n",
      "2\n",
      "3\n",
      "4\n",
      "5\n",
      "6\n",
      "7\n",
      "8\n",
      "9\n",
      "10\n",
      "Done!\n"
     ]
    }
   ],
   "source": [
    "#define second function that counts up instead\n",
    "def count_up(x, max):\n",
    "    if x > max:\n",
    "        print('Done!')\n",
    "        return\n",
    "    print(x)\n",
    "    count_up(x + 1, max)\n",
    "\n",
    "#count up from 0 to 10\n",
    "count_up(0, 10)"
   ]
  },
  {
   "cell_type": "markdown",
   "id": "6aaaf85c",
   "metadata": {},
   "source": [
    "Way forward:\n",
    "- Start applying functional concepts, esp. recursion, in weekly projects.\n",
    "- Proceed to [Python Object-Oriented Programming](https://www.linkedin.com/learning/python-object-oriented-programming?u=50251009) for an alternative approach.\n",
    "- Watch [Lecture 1](https://www.youtube.com/watch?v=ycJEoqmQvwg&list=PLbN57C5Zdl6j_qJA-pARJnKsmROzPnO9V&index=1) of Steven Strogatz's course."
   ]
  }
 ],
 "metadata": {
  "kernelspec": {
   "display_name": "Python 3",
   "language": "python",
   "name": "python3"
  },
  "language_info": {
   "codemirror_mode": {
    "name": "ipython",
    "version": 3
   },
   "file_extension": ".py",
   "mimetype": "text/x-python",
   "name": "python",
   "nbconvert_exporter": "python",
   "pygments_lexer": "ipython3",
   "version": "3.8.10"
  }
 },
 "nbformat": 4,
 "nbformat_minor": 5
}
