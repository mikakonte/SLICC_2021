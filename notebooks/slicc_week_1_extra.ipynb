{
 "cells": [
  {
   "cell_type": "markdown",
   "id": "5fbd43c0",
   "metadata": {},
   "source": [
    "# Week 1 Extra: Concepts in Object-Oriented Programming\n",
    "\n",
    "### Aim: Gain familiarity with OOP concepts for physics simulations."
   ]
  },
  {
   "cell_type": "markdown",
   "id": "3e54cc37",
   "metadata": {},
   "source": [
    "## [Python Object-Oriented Programming](https://www.linkedin.com/learning/python-object-oriented-programming?u=50251009) by Joe Marini"
   ]
  },
  {
   "cell_type": "markdown",
   "id": "ba552352",
   "metadata": {},
   "source": [
    "### Motivation\n",
    "\n",
    "Complex programmes can be difficult to keep organised. OOP techniques organise and structure the code, promoting modularisation and isolating different parts of the programme from one another (minimising the risk of bugs).\n",
    "\n",
    "### Terminology\n",
    "\n",
    "**Class**: A blueprint for creating objects of a particular type\n",
    "\n",
    "**Methods**: Regular functions that are part of a class\n",
    "\n",
    "**Attributes**: Variables that hold data that are part of a class\n",
    "\n",
    "**Object**: A specific instance of a class\n",
    "\n",
    "**Inheritance**: Means by which a class can inherit capabilities from another\n",
    "\n",
    "**Composition**: Means of building complex objects out of other objects"
   ]
  },
  {
   "cell_type": "markdown",
   "id": "f450a21c",
   "metadata": {},
   "source": [
    "### Chapter 1: Object-Oriented Python"
   ]
  },
  {
   "cell_type": "code",
   "execution_count": 4,
   "id": "75bbe1af",
   "metadata": {},
   "outputs": [
    {
     "name": "stdout",
     "output_type": "stream",
     "text": [
      "<__main__.Book object at 0x10d3335b0>\n",
      "For Whom the Bell Tolls\n"
     ]
    }
   ],
   "source": [
    "# Python Object Oriented Programming by Joe Marini course example\n",
    "# Basic class definitions\n",
    "\n",
    "\n",
    "# TODO: create a basic class\n",
    "class Book:\n",
    "    #Override the built-in init (initialiser) function\n",
    "    def __init__(self, title):\n",
    "        self.title = title\n",
    "\n",
    "# TODO: create instances of the class\n",
    "b1 = Book('For Whom the Bell Tolls')\n",
    "b2 = Book('Sync: The Emerging Science of Spontaneous Order')\n",
    "\n",
    "# TODO: print the class and property\n",
    "print(b1)\n",
    "print(b1.title)"
   ]
  },
  {
   "cell_type": "code",
   "execution_count": 33,
   "id": "422d7285",
   "metadata": {},
   "outputs": [
    {
     "name": "stdout",
     "output_type": "stream",
     "text": [
      "The price of War and Peace = 19.99£\n",
      "9.99\n",
      "7.4925\n",
      "This is a secret attribute.\n"
     ]
    }
   ],
   "source": [
    "# Python Object Oriented Programming by Joe Marini course example\n",
    "# Using instance methods and attributes\n",
    "\n",
    "\n",
    "class Book:\n",
    "    # the \"init\" function is called when the instance is\n",
    "    # created and ready to be initialized\n",
    "    def __init__(self, title, author, page_count, price):\n",
    "        self.title = title\n",
    "        # TODO: add properties\n",
    "        self.author = author\n",
    "        self.page_count = page_count\n",
    "        self.price = price\n",
    "        self.__secret = 'This is a secret attribute.'\n",
    "\n",
    "    # TODO: create instance methods\n",
    "    def get_price(self):\n",
    "        if hasattr(self, '_discount'):\n",
    "            return self.price - (self.price * self._discount)\n",
    "        else:\n",
    "            return self.price\n",
    "    \n",
    "    def set_discount(self, amount):\n",
    "        #The underscore tells other programmers not to use the attribute outside the class\n",
    "        self._discount = amount\n",
    "\n",
    "# TODO: create some book instances\n",
    "b1 = Book(\"War and Peace\", 'Leo Tolstoy', 1225, 19.99)\n",
    "b2 = Book(\"The Catcher in the Rye\", 'JD Salinger', 234, 9.99)\n",
    "\n",
    "# TODO: print the price of book1\n",
    "print('The price of ' + b1.title + ' = ' + str(b1.get_price()) + '£')\n",
    "\n",
    "# TODO: try setting the discount\n",
    "print(b2.get_price())\n",
    "\n",
    "b2.set_discount(0.25)\n",
    "\n",
    "print(b2.get_price())\n",
    "\n",
    "# TODO: properties with double underscores are hidden by the interpreter\n",
    "\n",
    "#The following line returns an attribute error (uncomment)\n",
    "#print(b2.__secret)\n",
    "\n",
    "#Adding _Book overrides the hidden property\n",
    "print(b2._Book__secret)"
   ]
  },
  {
   "cell_type": "code",
   "execution_count": 41,
   "id": "ecb31e7d",
   "metadata": {},
   "outputs": [
    {
     "name": "stdout",
     "output_type": "stream",
     "text": [
      "<class '__main__.Book'>\n",
      "<class '__main__.Newspaper'>\n",
      "Checking the types:\n",
      "True\n",
      "False\n",
      "Testing out the isinstance function:\n",
      "True\n",
      "True\n",
      "False\n",
      "True\n"
     ]
    }
   ],
   "source": [
    "# Python Object Oriented Programming by Joe Marini course example\n",
    "# Checking class types and instances\n",
    "\n",
    "\n",
    "class Book:\n",
    "    def __init__(self, title):\n",
    "        self.title = title\n",
    "\n",
    "\n",
    "class Newspaper:\n",
    "    def __init__(self, name):\n",
    "        self.name = name\n",
    "\n",
    "\n",
    "# Create some instances of the classes\n",
    "b1 = Book(\"The Catcher In The Rye\")\n",
    "b2 = Book(\"The Grapes of Wrath\")\n",
    "n1 = Newspaper(\"The Washington Post\")\n",
    "n2 = Newspaper(\"The New York Times\")\n",
    "\n",
    "# TODO: use type() to inspect the object type\n",
    "print(type(b1))\n",
    "print(type(n1))\n",
    "\n",
    "# TODO: compare two types together (returns a Boolean)\n",
    "print('Checking the types:')\n",
    "print(type(b1) == type(b2))\n",
    "print(type(b1) == type(n2))\n",
    "\n",
    "# TODO: use isinstance to compare a specific instance to a known type\n",
    "print('Testing out the isinstance function:')\n",
    "print(isinstance(b1, Book))\n",
    "print(isinstance(n1, Newspaper))\n",
    "print(isinstance(n2, Book))\n",
    "\n",
    "#All classes derive from object\n",
    "print(isinstance(n2, object))"
   ]
  },
  {
   "cell_type": "code",
   "execution_count": 49,
   "id": "0fccc7d4",
   "metadata": {},
   "outputs": [
    {
     "name": "stdout",
     "output_type": "stream",
     "text": [
      "Book types:  ('HARDCOVER', 'PAPERBACK', 'EBOOK')\n",
      "[<__main__.Book object at 0x10d3d45e0>, <__main__.Book object at 0x10d3d4bb0>]\n"
     ]
    }
   ],
   "source": [
    "# Python Object Oriented Programming by Joe Marini course example\n",
    "# Using class-level and static methods\n",
    "\n",
    "\n",
    "class Book:\n",
    "    \n",
    "    # TODO: Properties defined at the class level are shared by all instances\n",
    "    BOOK_TYPES = ('HARDCOVER', 'PAPERBACK', 'EBOOK')\n",
    "    \n",
    "    # TODO: double-underscore properties are hidden from other classes\n",
    "    __book_list = None\n",
    "    \n",
    "    # TODO: create a class method\n",
    "    @classmethod\n",
    "    def get_book_types(cls):\n",
    "        return cls.BOOK_TYPES\n",
    "    \n",
    "    # TODO: create a static method\n",
    "    @staticmethod\n",
    "    def get_book_list():\n",
    "        if Book.__book_list == None:\n",
    "            Book.__book_list = []\n",
    "        return Book.__book_list\n",
    "    \n",
    "    # instance methods receive a specific object instance as an argument\n",
    "    # and operate on data specific to that object instance\n",
    "    def set_title(self, new_title):\n",
    "        self.title = new_title\n",
    "\n",
    "    def __init__(self, title, book_type):\n",
    "        self.title = title\n",
    "        if (not book_type in Book.BOOK_TYPES):\n",
    "            raise ValueError(f'{book_type} is not a valid book type')\n",
    "        else:\n",
    "            self.book_type = book_type\n",
    "\n",
    "\n",
    "# TODO: access the class attribute\n",
    "print('Book types: ', Book.get_book_types())\n",
    "\n",
    "# TODO: Create some book instances\n",
    "b1 = Book(\"Title 1\", 'HARDCOVER')\n",
    "b2 = Book(\"Title 2\", 'EBOOK')\n",
    "\n",
    "#The next line raises a value error (uncomment)\n",
    "#b3 = Book(\"Title 3\", 'COMIC')\n",
    "\n",
    "# TODO: Use the static method to access a singleton object\n",
    "the_books = Book.get_book_list()\n",
    "the_books.append(b1)\n",
    "the_books.append(b2)\n",
    "print(the_books)"
   ]
  },
  {
   "cell_type": "markdown",
   "id": "a7b93577",
   "metadata": {},
   "source": [
    "### Chapter 2: Inheritance and Composition"
   ]
  },
  {
   "cell_type": "code",
   "execution_count": 7,
   "id": "90234f2b",
   "metadata": {},
   "outputs": [
    {
     "name": "stdout",
     "output_type": "stream",
     "text": [
      "Aldous Huxley\n",
      "New York Times Company\n",
      "29.0 5.99 6.0\n"
     ]
    }
   ],
   "source": [
    "# Python Object Oriented Programming by Joe Marini course example\n",
    "# Understanding class inheritance\n",
    "\n",
    "#Define highest-level class Publication\n",
    "class Publication:\n",
    "    def __init__(self, title, price):\n",
    "        self.title = title\n",
    "        self.price = price\n",
    "        \n",
    "#Periodical inherits from Publication through superclass function       \n",
    "class Periodical(Publication):\n",
    "    def __init__(self, title, price, period, publisher):\n",
    "        super().__init__(title, price)\n",
    "        self.period = period\n",
    "        self.publisher = publisher\n",
    "\n",
    "#Book inherits from Publication\n",
    "class Book(Publication):\n",
    "    def __init__(self, title, author, pages, price):\n",
    "        super().__init__(title, price)\n",
    "        self.author = author\n",
    "        self.pages = pages\n",
    "\n",
    "#Both Magazine and Newspaper inherit from Periodical\n",
    "class Magazine(Periodical):\n",
    "    def __init__(self, title, publisher, price, period):\n",
    "        super().__init__(title, price, period, publisher)\n",
    "\n",
    "class Newspaper(Periodical):\n",
    "    def __init__(self, title, publisher, price, period):\n",
    "        super().__init__(title, price, period, publisher)\n",
    "\n",
    "#Create instances of the classes\n",
    "b1 = Book(\"Brave New World\", \"Aldous Huxley\", 311, 29.0)\n",
    "n1 = Newspaper(\"NY Times\", \"New York Times Company\", 6.0, \"Daily\")\n",
    "m1 = Magazine(\"Scientific American\", \"Springer Nature\", 5.99, \"Monthly\")\n",
    "\n",
    "print(b1.author)\n",
    "print(n1.publisher)\n",
    "print(b1.price, m1.price, n1.price)"
   ]
  },
  {
   "cell_type": "code",
   "execution_count": 11,
   "id": "a016e142",
   "metadata": {},
   "outputs": [
    {
     "name": "stdout",
     "output_type": "stream",
     "text": [
      "314.0\n",
      "144\n"
     ]
    }
   ],
   "source": [
    "# Python Object Oriented Programming by Joe Marini course example\n",
    "# Using Abstract Base Classes to enforce class constraints\n",
    "\n",
    "from abc import ABC, abstractmethod\n",
    "\n",
    "class GraphicShape(ABC):\n",
    "    def __init__(self):\n",
    "        super().__init__()\n",
    "    \n",
    "    #the abstractmethod decorator forces subclasses to override the following method\n",
    "    @abstractmethod\n",
    "    def calcArea(self):\n",
    "        pass\n",
    "\n",
    "\n",
    "class Circle(GraphicShape):\n",
    "    def __init__(self, radius):\n",
    "        self.radius = radius\n",
    "        \n",
    "    def calcArea(self):\n",
    "        return 3.14 * (self.radius**2)\n",
    "\n",
    "\n",
    "class Square(GraphicShape):\n",
    "    def __init__(self, side):\n",
    "        self.side = side\n",
    "    \n",
    "    def calcArea(self):\n",
    "        return self.side * self.side\n",
    "\n",
    "\n",
    "#g = GraphicShape()\n",
    "\n",
    "c = Circle(10)\n",
    "print(c.calcArea())\n",
    "s = Square(12)\n",
    "print(s.calcArea())"
   ]
  },
  {
   "cell_type": "code",
   "execution_count": 22,
   "id": "3e5806b6",
   "metadata": {},
   "outputs": [
    {
     "name": "stdout",
     "output_type": "stream",
     "text": [
      "foo\n",
      "bar\n",
      "Class B\n",
      "(<class '__main__.C'>, <class '__main__.B'>, <class '__main__.A'>, <class 'object'>)\n"
     ]
    }
   ],
   "source": [
    "# Python Object Oriented Programming by Joe Marini course example\n",
    "# Understanding multiple inheritance\n",
    "\n",
    "\n",
    "class A:\n",
    "    def __init__(self):\n",
    "        super().__init__()\n",
    "        self.foo = \"foo\"\n",
    "        self.name = 'Class A'\n",
    "\n",
    "\n",
    "class B:\n",
    "    def __init__(self):\n",
    "        super().__init__()\n",
    "        self.bar = \"bar\"\n",
    "        self.name = 'Class B'\n",
    "\n",
    "#Class C inherits from both A and B\n",
    "class C(B, A):\n",
    "    def __init__(self):\n",
    "        super().__init__()\n",
    "        \n",
    "    def show_props(self):\n",
    "        print(self.foo)\n",
    "        print(self.bar)\n",
    "        print(self.name)\n",
    "\n",
    "\n",
    "c = C()\n",
    "\n",
    "#Python's method resolution order decides the name based on the order of inheritance\n",
    "c.show_props()\n",
    "\n",
    "#The method resolution order can be inspected explicitly\n",
    "print(C.__mro__)"
   ]
  },
  {
   "cell_type": "code",
   "execution_count": 27,
   "id": "d848b63d",
   "metadata": {},
   "outputs": [
    {
     "name": "stdout",
     "output_type": "stream",
     "text": [
      "314.0\n",
      "{'circle': 314.0}\n"
     ]
    }
   ],
   "source": [
    "# Python Object Oriented Programming by Joe Marini course example\n",
    "# Using Abstract Base Classes to implement interfaces\n",
    "\n",
    "from abc import ABC, abstractmethod\n",
    "\n",
    "#Define an abstract base class that demands its subclasses to include a method to_JSON\n",
    "class JSONify(ABC):\n",
    "    @abstractmethod\n",
    "    def to_JSON(self):\n",
    "        pass\n",
    "\n",
    "class GraphicShape(ABC):\n",
    "    def __init__(self):\n",
    "        super().__init__()\n",
    "\n",
    "    @abstractmethod\n",
    "    def calcArea(self):\n",
    "        pass\n",
    "\n",
    "#Circle must now override and implement to_JSON method; otherwise error\n",
    "class Circle(GraphicShape, JSONify):\n",
    "    def __init__(self, radius):\n",
    "        self.radius = radius\n",
    "\n",
    "    def calcArea(self):\n",
    "        return 3.14 * (self.radius ** 2)\n",
    "    \n",
    "    def to_JSON(self):\n",
    "        return f'{{\\'circle\\': {str(self.calcArea())}}}'\n",
    "\n",
    "c = Circle(10)\n",
    "print(c.calcArea())\n",
    "print(c.to_JSON())"
   ]
  },
  {
   "cell_type": "code",
   "execution_count": 31,
   "id": "cf315fc8",
   "metadata": {},
   "outputs": [
    {
     "name": "stdout",
     "output_type": "stream",
     "text": [
      "Leo Tolstoy\n",
      "War and Peace\n",
      "365\n"
     ]
    }
   ],
   "source": [
    "# Python Object Oriented Programming by Joe Marini course example\n",
    "# Using composition to build complex objects\n",
    "\n",
    "#Make the Book class more flexible by composing it of base classes\n",
    "class Book:\n",
    "    def __init__(self, title, price, author = None):\n",
    "        self.title = title\n",
    "        self.price = price\n",
    "\n",
    "        self.author = author\n",
    "        \n",
    "        self.chapters = []\n",
    "\n",
    "    def addchapter(self, chapter):\n",
    "        self.chapters.append(chapter)\n",
    "        \n",
    "    def get_book_page_count(self):\n",
    "        result = 0\n",
    "        for ch in self.chapters:\n",
    "            result += ch.page_count\n",
    "        return result\n",
    "\n",
    "class Author:\n",
    "    def __init__(self, fname, lname):\n",
    "        self.fname = fname\n",
    "        self.lname = lname\n",
    "        \n",
    "    def __str__(self):\n",
    "        return f'{self.fname} {self.lname}'\n",
    "    \n",
    "class Chapter:\n",
    "    def __init__(self, name, page_count):\n",
    "        self.name = name\n",
    "        self.page_count = page_count\n",
    "\n",
    "auth = Author('Leo', 'Tolstoy')        \n",
    "\n",
    "b1 = Book(\"War and Peace\", 39.0, auth)\n",
    "\n",
    "b1.addchapter(Chapter(\"Chapter 1\", 125))\n",
    "b1.addchapter(Chapter(\"Chapter 2\", 97))\n",
    "b1.addchapter(Chapter(\"Chapter 3\", 143))\n",
    "\n",
    "print(b1.author)\n",
    "print(b1.title)\n",
    "print(b1.get_book_page_count())"
   ]
  },
  {
   "cell_type": "markdown",
   "id": "57ac95f1",
   "metadata": {},
   "source": [
    "### Chapter 3: Magic Object Methods"
   ]
  },
  {
   "cell_type": "code",
   "execution_count": 5,
   "id": "97153bec",
   "metadata": {},
   "outputs": [
    {
     "name": "stdout",
     "output_type": "stream",
     "text": [
      "War and Peace by Leo Tolstoy, costs 39.95\n",
      "The Catcher in the Rye by JD Salinger, costs 29.95\n",
      "War and Peace by Leo Tolstoy, costs 39.95\n",
      "title=The Catcher in the Rye, author=JD Salinger, price=29.95\n"
     ]
    }
   ],
   "source": [
    "# Python Object Oriented Programming by Joe Marini course example\n",
    "# Using the __str__ and __repr__ magic methods\n",
    "\n",
    "class Book:\n",
    "    def __init__(self, title, author, price):\n",
    "        super().__init__()\n",
    "        self.title = title\n",
    "        self.author = author\n",
    "        self.price = price\n",
    "\n",
    "    # TODO: use the __str__ method to return a string (for normal users)\n",
    "    def __str__(self):\n",
    "        return f'{self.title} by {self.author}, costs {self.price}'\n",
    "    \n",
    "    # TODO: use the __repr__ method to return an obj representation (for developers)\n",
    "    def __repr__(self):\n",
    "        return f'title={self.title}, author={self.author}, price={self.price}'\n",
    "\n",
    "b1 = Book(\"War and Peace\", \"Leo Tolstoy\", 39.95)\n",
    "b2 = Book(\"The Catcher in the Rye\", \"JD Salinger\", 29.95)\n",
    "\n",
    "print(b1)\n",
    "print(b2)\n",
    "\n",
    "print(str(b1))\n",
    "print(repr(b2))"
   ]
  },
  {
   "cell_type": "code",
   "execution_count": 12,
   "id": "ccf4c88b",
   "metadata": {},
   "outputs": [
    {
     "name": "stdout",
     "output_type": "stream",
     "text": [
      "True\n",
      "False\n",
      "False\n",
      "True\n",
      "['To Kill a Mockingbird', 'The Catcher in the Rye', 'War and Peace', 'War and Peace']\n"
     ]
    }
   ],
   "source": [
    "# Python Object Oriented Programming by Joe Marini course example\n",
    "# Using the __str__ and __repr__ magic methods\n",
    "\n",
    "class Book:\n",
    "    def __init__(self, title, author, price):\n",
    "        super().__init__()\n",
    "        self.title = title\n",
    "        self.author = author\n",
    "        self.price = price\n",
    "\n",
    "    # TODO: the __eq__ method checks for equality between two objects\n",
    "    def __eq__(self, value):\n",
    "        if not isinstance(value, Book):\n",
    "            raise ValueError(\"Can't compare book to non-book\")\n",
    "        return (self.title == value.title and\n",
    "                self.author == value.author and\n",
    "                self.price == value.price)\n",
    "    # TODO: the __ge__ establishes >= relationship with another obj\n",
    "    def __ge__(self, value):\n",
    "        if not isinstance(value, Book):\n",
    "            raise ValueError(\"Can't compare book to non-book\")\n",
    "        \n",
    "        return self.price >= value.price\n",
    "    \n",
    "    # TODO: the __lt__ establishes < relationship with another obj\n",
    "    def __lt__(self, value):\n",
    "        if not isinstance(value, Book):\n",
    "            raise ValueError(\"Can't compare book to non-book\")\n",
    "        \n",
    "        return self.price < value.price\n",
    "\n",
    "b1 = Book(\"War and Peace\", \"Leo Tolstoy\", 39.95)\n",
    "b2 = Book(\"The Catcher in the Rye\", \"JD Salinger\", 29.95)\n",
    "b3 = Book(\"War and Peace\", \"Leo Tolstoy\", 39.95)\n",
    "b4 = Book(\"To Kill a Mockingbird\", \"Harper Lee\", 24.95)\n",
    "\n",
    "# TODO: Check for equality\n",
    "print(b1 == b3)\n",
    "print(b1 == b2)\n",
    "#print(b1 == 42) #Raises a value error\n",
    "\n",
    "# TODO: Check for greater and lesser value\n",
    "print(b2 >= b1)\n",
    "print(b2 < b1)\n",
    "\n",
    "# TODO: Now we can sort them too\n",
    "books = [b1, b3, b2, b4]\n",
    "books.sort()\n",
    "\n",
    "print([book.title for book in books])"
   ]
  },
  {
   "cell_type": "code",
   "execution_count": 17,
   "id": "64900158",
   "metadata": {},
   "outputs": [
    {
     "name": "stdout",
     "output_type": "stream",
     "text": [
      "War and Peace by Leo Tolstoy, costs 35.055\n",
      "The Catcher in the Rye by JD Salinger, costs 36.0\n",
      "randompropis not here\n"
     ]
    }
   ],
   "source": [
    "# Python Object Oriented Programming by Joe Marini course example\n",
    "# Using the __str__ and __repr__ magic methods\n",
    "\n",
    "class Book:\n",
    "    def __init__(self, title, author, price):\n",
    "        super().__init__()\n",
    "        self.title = title\n",
    "        self.author = author\n",
    "        self.price = price\n",
    "        self._discount = 0.1\n",
    "\n",
    "    # The __str__ function is used to return a user-friendly string\n",
    "    # representation of the object\n",
    "    def __str__(self):\n",
    "        return f\"{self.title} by {self.author}, costs {self.price}\"\n",
    "\n",
    "    # TODO: __getattribute__ called when an attr is retrieved. Don't\n",
    "    # directly access the attr name otherwise a recursive loop is created\n",
    "    def __getattribute__(self, name):\n",
    "        if name == 'price':\n",
    "            p = super().__getattribute__('price')\n",
    "            d = super().__getattribute__('_discount')\n",
    "            return p - (p * d)\n",
    "        return super().__getattribute__(name)\n",
    "    \n",
    "    # TODO: __setattr__ called when an attribute value is set. Don't set the attr\n",
    "    # directly here otherwise a recursive loop causes a crash\n",
    "    def __setattr__(self, name, value):\n",
    "        if name == 'price':\n",
    "            if type(value) is not float:\n",
    "                raise ValueError('The price attr must be a float')\n",
    "        return super().__setattr__(name, value)\n",
    "    \n",
    "    # TODO: __getattr__ called when __getattribute__ lookup fails - you can\n",
    "    # pretty much generate attributes on the fly with this method\n",
    "    def __getattr__(self, name):\n",
    "        return name + 'is not here'\n",
    "\n",
    "b1 = Book(\"War and Peace\", \"Leo Tolstoy\", 39.95)\n",
    "b2 = Book(\"The Catcher in the Rye\", \"JD Salinger\", 29.95)\n",
    "\n",
    "b1.price = 38.95\n",
    "print(b1)\n",
    "\n",
    "b2.price = float(40)\n",
    "print(b2)\n",
    "\n",
    "print(b1.randomprop)"
   ]
  },
  {
   "cell_type": "code",
   "execution_count": 20,
   "id": "55e05bbf",
   "metadata": {},
   "outputs": [
    {
     "name": "stdout",
     "output_type": "stream",
     "text": [
      "War and Peace by Leo Tolstoy, costs 39.95\n",
      "Anna Karenina by Leo Tolstoy, costs 49.95\n"
     ]
    }
   ],
   "source": [
    "# Python Object Oriented Programming by Joe Marini course example\n",
    "# Using the __str__ and __repr__ magic methods\n",
    "\n",
    "class Book:\n",
    "    def __init__(self, title, author, price):\n",
    "        super().__init__()\n",
    "        self.title = title\n",
    "        self.author = author\n",
    "        self.price = price\n",
    "\n",
    "    def __str__(self):\n",
    "        return f\"{self.title} by {self.author}, costs {self.price}\"\n",
    "\n",
    "    # TODO: the __call__ method can be used to call the object like a function\n",
    "    def __call__(self, title, author, price):\n",
    "        self.title = title\n",
    "        self.author = author\n",
    "        self.price = price\n",
    "\n",
    "b1 = Book(\"War and Peace\", \"Leo Tolstoy\", 39.95)\n",
    "b2 = Book(\"The Catcher in the Rye\", \"JD Salinger\", 29.95)\n",
    "\n",
    "# TODO: call the object as if it were a function\n",
    "print(b1)\n",
    "\n",
    "b1('Anna Karenina', 'Leo Tolstoy', 49.95)\n",
    "print(b1)"
   ]
  },
  {
   "cell_type": "markdown",
   "id": "ea00e69a",
   "metadata": {},
   "source": [
    "### Chapter 4: Data Classes"
   ]
  },
  {
   "cell_type": "code",
   "execution_count": 9,
   "id": "5181c6be",
   "metadata": {},
   "outputs": [
    {
     "name": "stdout",
     "output_type": "stream",
     "text": [
      "War and Peace\n",
      "JD Salinger\n",
      "Book(title='War and Peace', author='Leo Tolstoy', pages=1225, price=39.95)\n",
      "True\n",
      "Anna Karenina, by Leo Tolstoy\n"
     ]
    }
   ],
   "source": [
    "# Python Object Oriented Programming by Joe Marini course example\n",
    "# Using data classes to represent data objects\n",
    "\n",
    "#Python 3.7 onwards\n",
    "from dataclasses import dataclass\n",
    "\n",
    "@dataclass\n",
    "class Book:\n",
    "    title : str\n",
    "    author : str\n",
    "    pages : int\n",
    "    price : float\n",
    "\n",
    "    def bookinfo(self):\n",
    "        return f'{self.title}, by {self.author}'\n",
    "\n",
    "# create some instances\n",
    "b1 = Book(\"War and Peace\", \"Leo Tolstoy\", 1225, 39.95)\n",
    "b2 = Book(\"The Catcher in the Rye\", \"JD Salinger\", 234, 29.95)\n",
    "b3 = Book(\"War and Peace\", \"Leo Tolstoy\", 1225, 39.95)\n",
    "\n",
    "# access fields\n",
    "print(b1.title)\n",
    "print(b2.author)\n",
    "\n",
    "# TODO: print the book itself - dataclasses implement __repr__\n",
    "print(b1)\n",
    "\n",
    "# TODO: comparing two dataclasses - they implement __eq__\n",
    "print(b1 == b3)\n",
    "\n",
    "# TODO: change some fields\n",
    "b1.title = 'Anna Karenina'\n",
    "b1.pages = 864\n",
    "print(b1.bookinfo())\n",
    "\n",
    "#Notice how much more concise the code is with the dataclass notation"
   ]
  },
  {
   "cell_type": "code",
   "execution_count": 11,
   "id": "2e51bdd7",
   "metadata": {},
   "outputs": [
    {
     "name": "stdout",
     "output_type": "stream",
     "text": [
      "War and Peace by Leo Tolstoy, 1225 pages\n",
      "The Catcher in the Rye by JD Salinger, 234 pages\n"
     ]
    }
   ],
   "source": [
    "# Python Object Oriented Programming by Joe Marini course example\n",
    "# Using the postinit function in data classes\n",
    "\n",
    "from dataclasses import dataclass\n",
    "\n",
    "@dataclass\n",
    "class Book:\n",
    "    title: str\n",
    "    author: str\n",
    "    pages: int\n",
    "    price: float\n",
    "\n",
    "    # TODO: the __post_init__ function lets us customize additional properties/attributes\n",
    "    # after the object has been initialized via built-in __init__\n",
    "    def __post_init__(self):\n",
    "        self.description = f'{self.title} by {self.author}, {self.pages} pages'\n",
    "\n",
    "# create some Book objects\n",
    "b1 = Book(\"War and Peace\", \"Leo Tolstoy\", 1225, 39.95)\n",
    "b2 = Book(\"The Catcher in the Rye\", \"JD Salinger\", 234, 29.95)\n",
    "\n",
    "# TODO: use the description attribute\n",
    "print(b1.description)\n",
    "print(b2.description)"
   ]
  },
  {
   "cell_type": "code",
   "execution_count": 21,
   "id": "d70d5b22",
   "metadata": {},
   "outputs": [
    {
     "name": "stdout",
     "output_type": "stream",
     "text": [
      "Book(title='War and Peace', author='Leo Tolstoy', pages=1225, price=29.0)\n",
      "Book(title='The Catcher in the Rye', author='JD Salinger', pages=234, price=39.0)\n"
     ]
    }
   ],
   "source": [
    "# Python Object Oriented Programming by Joe Marini course example\n",
    "# implementing default values in data classes\n",
    "\n",
    "from dataclasses import dataclass, field\n",
    "import random\n",
    "\n",
    "#Define function to return a random price between 20 and 40\n",
    "def price_func():\n",
    "    return float(random.randrange(20, 40))\n",
    "\n",
    "@dataclass\n",
    "class Book:\n",
    "    # you can define default values when attributes are declared\n",
    "    title: str = 'No Title'\n",
    "    author: str = 'No Author'\n",
    "    pages: int = 0\n",
    "    price: float = field(default_factory=price_func)\n",
    "        \n",
    "b1 = Book(\"War and Peace\", \"Leo Tolstoy\", 1225)\n",
    "b2 = Book(\"The Catcher in the Rye\", \"JD Salinger\", 234)\n",
    "print(b1)\n",
    "print(b2)\n",
    "\n",
    "#Note: non-default arguments must always precede default arguments"
   ]
  },
  {
   "cell_type": "code",
   "execution_count": 30,
   "id": "2a6b3e09",
   "metadata": {},
   "outputs": [
    {
     "name": "stdout",
     "output_type": "stream",
     "text": [
      "Value 1\n",
      "Value 1\n"
     ]
    }
   ],
   "source": [
    "# Python Object Oriented Programming by Joe Marini course example\n",
    "# Creating immutable data classes\n",
    "\n",
    "from dataclasses import dataclass\n",
    "\n",
    "@dataclass(frozen = True)  # TODO: \"The \"frozen\" parameter makes the class immutable\n",
    "class ImmutableClass:\n",
    "    value1: str = \"Value 1\"\n",
    "    value2: int = 0\n",
    "\n",
    "    def somefunc(self, new_value):\n",
    "        self.value2 = new_value\n",
    "\n",
    "obj = ImmutableClass()\n",
    "print(obj.value1)\n",
    "\n",
    "# TODO: attempting to change the value of an immutable class throws an exception\n",
    "#obj.value1 = 'Another Value'\n",
    "print(obj.value1)\n",
    "\n",
    "# TODO: even functions within the class can't change anything\n",
    "#obj.somefunc(20)\n",
    "\n",
    "#Note: both reassignment attempts yeild an error due to the dataclass being frozen"
   ]
  }
 ],
 "metadata": {
  "kernelspec": {
   "display_name": "Python 3",
   "language": "python",
   "name": "python3"
  },
  "language_info": {
   "codemirror_mode": {
    "name": "ipython",
    "version": 3
   },
   "file_extension": ".py",
   "mimetype": "text/x-python",
   "name": "python",
   "nbconvert_exporter": "python",
   "pygments_lexer": "ipython3",
   "version": "3.8.10"
  }
 },
 "nbformat": 4,
 "nbformat_minor": 5
}
